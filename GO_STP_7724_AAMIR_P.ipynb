{
  "nbformat": 4,
  "nbformat_minor": 0,
  "metadata": {
    "colab": {
      "name": "GO_STP_7724 AAMIR P.ipynb",
      "provenance": [],
      "collapsed_sections": []
    },
    "kernelspec": {
      "name": "python3",
      "display_name": "Python 3"
    },
    "language_info": {
      "name": "python"
    }
  },
  "cells": [
    {
      "cell_type": "markdown",
      "metadata": {
        "id": "6CSXs1SVGNL8"
      },
      "source": [
        "**DAY 2: ASSIGNMENT 1 (PYTHON EXERCISES)**\n",
        "\n",
        "**DATE: 21 MAY 2021**\n",
        "\n",
        "**AUTHOR: AAMIR P**\n",
        "\n",
        "**REG. ID: GO_STP_7724**"
      ]
    },
    {
      "cell_type": "markdown",
      "metadata": {
        "id": "DRDTDhL-QWjU"
      },
      "source": [
        "Q1. We are having 3 list like this\n",
        "\n",
        "Colors=[“Yellow”,”Green”,”White”,”Black”]\n",
        "\n",
        "Fruits=[“Apple”,”Papaya”,”Mango”,”Orange”]\n",
        "\n",
        "Animals=[“Tiger”,”Lion”,”Deer”,”Zebra”]\n",
        "\n",
        "i. Write a program that asks user to enter a Color/Fruit/Animal name and it should tell which category belongs to , like          its is a fruit or color or Animal\n",
        "\n",
        "ii. Write a program that asks user to enter two cities and it tells you if they both are in same country or not. For               example if I enter yellow and Black, it will print \"Both are colors\" but if I enter yellow and Tiger it should print           \"They don't belong to same category\""
      ]
    },
    {
      "cell_type": "code",
      "metadata": {
        "id": "e3BowOr92asF",
        "colab": {
          "base_uri": "https://localhost:8080/"
        },
        "outputId": "006d2051-797e-4f2a-8f72-0e23dc8a6cb1"
      },
      "source": [
        "#i)\n",
        "Colors=[\"Yellow\",\"Green\",\"White\",\"Black\"]\n",
        "\n",
        "Fruits=[\"Apple\",\"Papaya\",\"Mango\",\"Orange\"]\n",
        "\n",
        "Animals=[\"Tiger\",\"Lion\",\"Deer\",\"Zebra\"]\n",
        "\n",
        "\n",
        "a = input(\"Enter your data: \")\n",
        "if a in Colors:\n",
        "  print(\"It is in Colors category\")\n",
        "elif a in Fruits:\n",
        "  print(\" It is in Fruits category\")\n",
        "elif a in Animals:\n",
        "  print(\"It is in Animals category\")"
      ],
      "execution_count": null,
      "outputs": [
        {
          "output_type": "stream",
          "text": [
            "Enter your data: Mango\n",
            " It is in Fruits category\n"
          ],
          "name": "stdout"
        }
      ]
    },
    {
      "cell_type": "code",
      "metadata": {
        "colab": {
          "base_uri": "https://localhost:8080/"
        },
        "id": "dy0RFJ2rPI2j",
        "outputId": "e8e7de8d-1f8a-46f0-dd97-833b53c4fb8e"
      },
      "source": [
        "#ii)\n",
        "Cities = [\"Chennai\", \"Bangalore\", \"Hyderabad\"]\n",
        "b = input(\"Enter the first city: \")\n",
        "c = input(\"Enter the second city: \")\n",
        "if b and c in Cities:\n",
        "  print(\"They both are in same country\")\n",
        "else:\n",
        "  print(\"They do not belong to same country\")\n"
      ],
      "execution_count": null,
      "outputs": [
        {
          "output_type": "stream",
          "text": [
            "Enter the first city: Chennai\n",
            "Enter the second city: Hyderabad\n",
            "They both are in same country\n"
          ],
          "name": "stdout"
        }
      ]
    },
    {
      "cell_type": "markdown",
      "metadata": {
        "id": "RZEBZ2VSTWW-"
      },
      "source": [
        "Q2. Write a python program that can tell you if your grade score good or not . Good Score range is 40 to 60.\n",
        "\n",
        "  i. Ask user to enter his score.\n",
        "\n",
        "  ii. If it is below 40 to 60 range then print that score is low\n",
        "\n",
        "  iii. If it is above 60 then print that it is good otherwise print that it is normal"
      ]
    },
    {
      "cell_type": "code",
      "metadata": {
        "colab": {
          "base_uri": "https://localhost:8080/"
        },
        "id": "WNQD6SvwTVGQ",
        "outputId": "6674926c-8cd0-4fbd-8908-c0d3222ecf06"
      },
      "source": [
        "d =eval(input(\"Enter your grade: \"))\n",
        "if d<40:\n",
        "  print(\"Score low\")\n",
        "elif 40<d<60:\n",
        "  print(\"Score is Normal\")\n",
        "else:\n",
        "  print(\"Score is Good\")"
      ],
      "execution_count": null,
      "outputs": [
        {
          "output_type": "stream",
          "text": [
            "Enter your grade: 58\n",
            "Score is Normal\n"
          ],
          "name": "stdout"
        }
      ]
    },
    {
      "cell_type": "markdown",
      "metadata": {
        "id": "m1Pq8oXJViDf"
      },
      "source": [
        "Q3. After appearing in exam 10 times you got this result,\n",
        "\n",
        "result = [\"Pass\",\"Fail\",\"Fail\",\"Pass\",\"Fail\",\"Pass\",\"Pass\",\"Fail\",\"Fail\",\"Fail\"]\n",
        "\n",
        "Using for loop figure out how many times you got Pass"
      ]
    },
    {
      "cell_type": "code",
      "metadata": {
        "colab": {
          "base_uri": "https://localhost:8080/"
        },
        "id": "FfcpwteRVmJs",
        "outputId": "a190f77e-5464-4109-bd67-22915d242fd6"
      },
      "source": [
        "result = [\"Pass\",\"Fail\",\"Fail\",\"Pass\",\"Fail\",\"Pass\",\"Pass\",\"Fail\",\"Fail\",\"Fail\"]\n",
        "e=result.count(\"Pass\")\n",
        "print(e)"
      ],
      "execution_count": null,
      "outputs": [
        {
          "output_type": "stream",
          "text": [
            "4\n"
          ],
          "name": "stdout"
        }
      ]
    },
    {
      "cell_type": "markdown",
      "metadata": {
        "id": "fy1VpmdhWhco"
      },
      "source": [
        "Q4. Write a program that prints following shape\n"
      ]
    },
    {
      "cell_type": "code",
      "metadata": {
        "id": "DNO7bLx9Wq63"
      },
      "source": [
        "*\n",
        "**\n",
        "***\n",
        "****\n",
        "*****\n",
        "****\n",
        "***\n",
        "**\n",
        "*\n"
      ],
      "execution_count": null,
      "outputs": []
    },
    {
      "cell_type": "code",
      "metadata": {
        "id": "htJwFzqiW1bR",
        "colab": {
          "base_uri": "https://localhost:8080/"
        },
        "outputId": "0ac79627-ae99-49f4-c1be-ef12a323c874"
      },
      "source": [
        "for i in range(0,6):\n",
        "  for j in range(i):\n",
        "    print(\"*\",end=\"\")\n",
        "  print()\n",
        "for i in range(4,0,-1):\n",
        "  for j in range(i):\n",
        "    if(j<i):\n",
        "      print(\"*\",end=\"\")\n",
        "  print()"
      ],
      "execution_count": 9,
      "outputs": [
        {
          "output_type": "stream",
          "text": [
            "\n",
            "*\n",
            "**\n",
            "***\n",
            "****\n",
            "*****\n",
            "****\n",
            "***\n",
            "**\n",
            "*\n"
          ],
          "name": "stdout"
        }
      ]
    },
    {
      "cell_type": "markdown",
      "metadata": {
        "id": "Rahwoanq5qc8"
      },
      "source": [
        "Q5.Lets say you are running a 50 km race. Write a program that,\n",
        "\n",
        "Upon completing each 10 km asks you \"are you tired?\" If you reply \"yes\" then it should break and print \"you didn't finish the race\" If you reply \"no\" then it should continue and ask \"are you tired\" on every km If you finish all 50 km then it should print congratulations message."
      ]
    },
    {
      "cell_type": "code",
      "metadata": {
        "colab": {
          "base_uri": "https://localhost:8080/"
        },
        "id": "ZFf85yUO5tch",
        "outputId": "713aa947-167e-4eb4-f2c8-c2343dd5b383"
      },
      "source": [
        "distance = 0\n",
        "for distance in range(0,51):\n",
        "  if distance<50 and distance%10==0:\n",
        "    print(\"Are you tired?\")\n",
        "    racer=input()\n",
        "    if racer==\"yes\":\n",
        "      print(\"you didn't finish the race\")\n",
        "      break\n",
        "    else: \n",
        "      if racer==\"no\":\n",
        "        continue\n",
        "  if distance == 50:\n",
        "    print(\"Congratulations\")"
      ],
      "execution_count": 14,
      "outputs": [
        {
          "output_type": "stream",
          "text": [
            "Are you tired?\n",
            "no\n",
            "Are you tired?\n",
            "no\n",
            "Are you tired?\n",
            "no\n",
            "Are you tired?\n",
            "no\n",
            "Are you tired?\n",
            "no\n",
            "Congratulations\n"
          ],
          "name": "stdout"
        }
      ]
    },
    {
      "cell_type": "markdown",
      "metadata": {
        "id": "hzDvIZKb-wSM"
      },
      "source": [
        "Q6. Write a Python program to find those numbers which are divisible by 7 and multiple of 5, between 1500 and 2700 (both included)."
      ]
    },
    {
      "cell_type": "code",
      "metadata": {
        "colab": {
          "base_uri": "https://localhost:8080/"
        },
        "id": "-g896ffm-1AA",
        "outputId": "2dffda76-1f97-4de5-d1a3-e391b172777c"
      },
      "source": [
        "for i in range(1500,2701):\n",
        "  if(i%7==0 and i%5==0):\n",
        "    print(i)"
      ],
      "execution_count": 15,
      "outputs": [
        {
          "output_type": "stream",
          "text": [
            "1505\n",
            "1540\n",
            "1575\n",
            "1610\n",
            "1645\n",
            "1680\n",
            "1715\n",
            "1750\n",
            "1785\n",
            "1820\n",
            "1855\n",
            "1890\n",
            "1925\n",
            "1960\n",
            "1995\n",
            "2030\n",
            "2065\n",
            "2100\n",
            "2135\n",
            "2170\n",
            "2205\n",
            "2240\n",
            "2275\n",
            "2310\n",
            "2345\n",
            "2380\n",
            "2415\n",
            "2450\n",
            "2485\n",
            "2520\n",
            "2555\n",
            "2590\n",
            "2625\n",
            "2660\n",
            "2695\n"
          ],
          "name": "stdout"
        }
      ]
    },
    {
      "cell_type": "markdown",
      "metadata": {
        "id": "c9mbjPbN_XEg"
      },
      "source": [
        "Q7. Print square of all numbers between 10 to 20 except even numbers"
      ]
    },
    {
      "cell_type": "code",
      "metadata": {
        "colab": {
          "base_uri": "https://localhost:8080/"
        },
        "id": "zzavl0xx_Z7-",
        "outputId": "a3db7da2-2acd-4bc9-d248-dbffe117c21b"
      },
      "source": [
        "for i in range(10, 21):\n",
        "  if i%2!=0:\n",
        "    print(i*i)"
      ],
      "execution_count": 17,
      "outputs": [
        {
          "output_type": "stream",
          "text": [
            "121\n",
            "169\n",
            "225\n",
            "289\n",
            "361\n"
          ],
          "name": "stdout"
        }
      ]
    },
    {
      "cell_type": "markdown",
      "metadata": {
        "id": "E0u4Cdp7_vt-"
      },
      "source": [
        "Q8. Your Marks for five Test(test1 to test5) looks like this,\n",
        "\n",
        "marks_list = [65, 75, 2100, 95, 83]\n",
        "\n",
        "Write a program that asks you to enter marks and program should tell you in which test that expense occurred. If expense is not found then it should print that as well."
      ]
    },
    {
      "cell_type": "code",
      "metadata": {
        "colab": {
          "base_uri": "https://localhost:8080/"
        },
        "id": "x7gXRHr__yZJ",
        "outputId": "dbe1a709-1b49-4bb7-c6c5-0bd6fc065f95"
      },
      "source": [
        "marks_list = [65, 75, 2100, 95, 83]\n",
        "marks = int(input(\"Enter marks: \"))\n",
        "if marks in marks_list:\n",
        "  print(f\"The expense has occured in : {marks_list.index(marks)+1}\")"
      ],
      "execution_count": 21,
      "outputs": [
        {
          "output_type": "stream",
          "text": [
            "Enter marks: 95\n",
            "The expense has occured in : 4\n"
          ],
          "name": "stdout"
        }
      ]
    }
  ]
}